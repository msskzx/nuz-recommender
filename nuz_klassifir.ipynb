{
 "cells": [
  {
   "cell_type": "markdown",
   "metadata": {},
   "source": [
    "# Nuz Klassifir"
   ]
  },
  {
   "cell_type": "markdown",
   "metadata": {},
   "source": [
    "### Download NLTK packages"
   ]
  },
  {
   "cell_type": "code",
   "execution_count": null,
   "metadata": {},
   "outputs": [],
   "source": [
    "import nltk\n",
    "#nltk.download()"
   ]
  },
  {
   "cell_type": "markdown",
   "metadata": {},
   "source": [
    "### Training Data Collection and Preprocessing"
   ]
  },
  {
   "cell_type": "code",
   "execution_count": 25,
   "metadata": {},
   "outputs": [],
   "source": [
    "import os, re\n",
    "\n",
    "direk = 'train/culture/'\n",
    "\n",
    "culture_files_names = os.listdir(direk)"
   ]
  },
  {
   "cell_type": "markdown",
   "metadata": {},
   "source": [
    "### Culture class"
   ]
  },
  {
   "cell_type": "code",
   "execution_count": 53,
   "metadata": {},
   "outputs": [],
   "source": [
    "from pandas import DataFrame\n",
    "from nltk import word_tokenize\n",
    "\n",
    "train = []\n",
    "\n",
    "for file_name in culture_files_names:\n",
    "    file_reader = open(direk + file_name, \"r\", encoding=\"utf-8\")\n",
    "    file = file_reader.read()\n",
    "    \n",
    "    title = re.search(r'<TITLE>(.*?)</(.?)TITLE>', file)\n",
    "    cleanr = re.compile('<.*?>')\n",
    "    clean_title = re.sub(cleanr, '', title.group(0))\n",
    "\n",
    "    # TODO include TEXT in the input\n",
    "    \n",
    "    train.append([clean_title, 'Culture'])"
   ]
  },
  {
   "cell_type": "markdown",
   "metadata": {},
   "source": [
    "### Stemming"
   ]
  },
  {
   "cell_type": "code",
   "execution_count": 44,
   "metadata": {},
   "outputs": [],
   "source": [
    "from nltk.stem.porter import *\n",
    "stemmer = PorterStemmer()"
   ]
  },
  {
   "cell_type": "code",
   "execution_count": null,
   "metadata": {},
   "outputs": [],
   "source": []
  },
  {
   "cell_type": "markdown",
   "metadata": {},
   "source": [
    "### Stop-word removal"
   ]
  },
  {
   "cell_type": "code",
   "execution_count": null,
   "metadata": {},
   "outputs": [],
   "source": []
  },
  {
   "cell_type": "markdown",
   "metadata": {},
   "source": [
    "### URL removal"
   ]
  },
  {
   "cell_type": "code",
   "execution_count": null,
   "metadata": {},
   "outputs": [],
   "source": []
  },
  {
   "cell_type": "code",
   "execution_count": null,
   "metadata": {},
   "outputs": [],
   "source": []
  },
  {
   "cell_type": "code",
   "execution_count": null,
   "metadata": {},
   "outputs": [],
   "source": []
  },
  {
   "cell_type": "markdown",
   "metadata": {},
   "source": [
    "### Test Data Collection and Preprocessing"
   ]
  },
  {
   "cell_type": "code",
   "execution_count": 2,
   "metadata": {},
   "outputs": [
    {
     "name": "stdout",
     "output_type": "stream",
     "text": [
      "الداخلية المصرية تُعلن تفاصيل حادث النزهة القاهرة - مباشر: أعلنت وزارة الداخلية المصرية، تفاصيل استشهاد النقيب ماجد أحمد عبد الرازق من قوة وحدة مباحث قسم شرطة النزهة وإصابة القوة المرافقة له، اليوم الأحد. وقالت الوزارة في بيان اليوم، أنه أثناء مرور النقيب ماجد أحمد عبد الرازق محمد، من قوة …\n"
     ]
    }
   ],
   "source": [
    "import json\n",
    "json_file = open('test\\posts.json', encoding='utf8')\n",
    "json_reader = json.load(json_file)\n",
    "\n",
    "articles = []\n",
    "for user in json_reader.values():\n",
    "    for article in user:\n",
    "        #use the title and description as input\n",
    "        articles.append(article[0]+' '+ article[1])\n",
    "        \n",
    "print(articles[0])"
   ]
  },
  {
   "cell_type": "code",
   "execution_count": null,
   "metadata": {},
   "outputs": [],
   "source": []
  }
 ],
 "metadata": {
  "kernelspec": {
   "display_name": "Python 3",
   "language": "python",
   "name": "python3"
  },
  "language_info": {
   "codemirror_mode": {
    "name": "ipython",
    "version": 3
   },
   "file_extension": ".py",
   "mimetype": "text/x-python",
   "name": "python",
   "nbconvert_exporter": "python",
   "pygments_lexer": "ipython3",
   "version": "3.6.5"
  }
 },
 "nbformat": 4,
 "nbformat_minor": 2
}
