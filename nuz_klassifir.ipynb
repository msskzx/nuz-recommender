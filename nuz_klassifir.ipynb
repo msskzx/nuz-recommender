{
 "cells": [
  {
   "cell_type": "markdown",
   "metadata": {},
   "source": [
    "# Nuz Klassifir"
   ]
  },
  {
   "cell_type": "markdown",
   "metadata": {},
   "source": [
    "### Download NLTK packages"
   ]
  },
  {
   "cell_type": "code",
   "execution_count": 241,
   "metadata": {},
   "outputs": [],
   "source": [
    "import nltk\n",
    "#nltk.download()"
   ]
  },
  {
   "cell_type": "markdown",
   "metadata": {},
   "source": [
    "### Training Data Collection and Preprocessing"
   ]
  },
  {
   "cell_type": "code",
   "execution_count": 242,
   "metadata": {},
   "outputs": [],
   "source": [
    "import os, re\n",
    "direk_folders = ['culture', 'diverse', 'economy', 'internationalNews', 'localNews', 'politic', 'society', 'sport', 'technology' ]"
   ]
  },
  {
   "cell_type": "code",
   "execution_count": 243,
   "metadata": {},
   "outputs": [],
   "source": [
    "train = []\n",
    "\n",
    "for folder_name in direk_folders:\n",
    "    direk = 'train/' + folder_name + '/'\n",
    "    current_files_names = os.listdir(direk)\n",
    "    \n",
    "    i = 0\n",
    "    for file_name in current_files_names:\n",
    "        \n",
    "        i +=1\n",
    "        if i == 100:\n",
    "            break\n",
    "            \n",
    "        file_reader = open(direk + file_name, \"r\", encoding=\"utf-8\")\n",
    "        file = file_reader.read()\n",
    "\n",
    "        # lowercase\n",
    "        #text=text.lower()\n",
    "\n",
    "        #remove tags\n",
    "        #text=re.sub(\"<!--?.*?-->\",\"\",text)\n",
    "\n",
    "        # remove special characters and digits\n",
    "        #text=re.sub(\"(\\\\d|\\\\W)+\",\" \",text)\n",
    "\n",
    "        title = re.search(r'<TITLE>(.*?)</(.?)TITLE>', file)\n",
    "        cleanr = re.compile('<.*?>')\n",
    "        clean_title = re.sub(cleanr, '', title.group(0))\n",
    "\n",
    "        # TODO include TEXT tag in the input\n",
    "\n",
    "        train.append([clean_title, folder_name])"
   ]
  },
  {
   "cell_type": "markdown",
   "metadata": {},
   "source": [
    "### Stemming"
   ]
  },
  {
   "cell_type": "code",
   "execution_count": 244,
   "metadata": {},
   "outputs": [],
   "source": [
    "from nltk.stem.porter import *\n",
    "from nltk import word_tokenize\n",
    "#nltk.download('punkt')"
   ]
  },
  {
   "cell_type": "code",
   "execution_count": 245,
   "metadata": {},
   "outputs": [],
   "source": [
    "for row in train:\n",
    "    #tokenize\n",
    "    splitted = word_tokenize(row[0])\n",
    "\n",
    "    for i in range(0, len(splitted)):\n",
    "        splitted[i] = stemmer.stem(splitted[i])\n",
    "    \n",
    "    row[0] = splitted"
   ]
  },
  {
   "cell_type": "markdown",
   "metadata": {},
   "source": [
    "### Stop-word removal"
   ]
  },
  {
   "cell_type": "code",
   "execution_count": 246,
   "metadata": {},
   "outputs": [],
   "source": [
    "#nltk.download('stopwords')\n",
    "from nltk.corpus import stopwords"
   ]
  },
  {
   "cell_type": "code",
   "execution_count": 247,
   "metadata": {},
   "outputs": [],
   "source": [
    "stop_words = set(stopwords.words('arabic')) \n",
    "for row in train:\n",
    "    x = [w for w in row[0] if not w in stop_words]\n",
    "    row[0] = x"
   ]
  },
  {
   "cell_type": "markdown",
   "metadata": {},
   "source": [
    "### URL removal"
   ]
  },
  {
   "cell_type": "code",
   "execution_count": 248,
   "metadata": {},
   "outputs": [],
   "source": [
    "for row in train:\n",
    "    splitted = row[0]\n",
    "    row[0] = \" \".join(splitted)\n",
    "    row[0] = re.sub(r'http\\S+', '', row[0])"
   ]
  },
  {
   "cell_type": "markdown",
   "metadata": {},
   "source": [
    "### Model"
   ]
  },
  {
   "cell_type": "code",
   "execution_count": 249,
   "metadata": {},
   "outputs": [],
   "source": [
    "from sklearn.feature_extraction.text import TfidfVectorizer\n",
    "\n",
    "train_sent = [line[0] for line in train]\n",
    "train_labels = [line[1] for line in train]\n",
    "\n",
    "tdif_vec = TfidfVectorizer(norm = None)\n",
    "tfidf = tdif_vec.fit_transform(train_sent)"
   ]
  },
  {
   "cell_type": "markdown",
   "metadata": {},
   "source": [
    "### Feed the training documents and their labels to a NB classifier"
   ]
  },
  {
   "cell_type": "code",
   "execution_count": 250,
   "metadata": {},
   "outputs": [
    {
     "data": {
      "text/plain": [
       "MultinomialNB(alpha=1, class_prior=None, fit_prior=True)"
      ]
     },
     "execution_count": 250,
     "metadata": {},
     "output_type": "execute_result"
    }
   ],
   "source": [
    "from sklearn.naive_bayes import MultinomialNB\n",
    "\n",
    "clf = MultinomialNB(alpha=1)\n",
    "clf.fit(tfidf, train_labels)"
   ]
  },
  {
   "cell_type": "markdown",
   "metadata": {},
   "source": [
    "### Test Data Collection and Preprocessing"
   ]
  },
  {
   "cell_type": "code",
   "execution_count": 252,
   "metadata": {},
   "outputs": [],
   "source": [
    "import json\n",
    "json_file = open('test\\posts.json', encoding='utf8')\n",
    "json_reader = json.load(json_file)\n",
    "\n",
    "user_interest = []\n",
    "\n",
    "test = []\n",
    "for user in json_reader.values():\n",
    "    for article in user:\n",
    "        #use the title and description as input\n",
    "        test.append(article[0]+' '+ article[1])\n",
    "\n",
    "# number of data provided for each user is 50, nubmer of users is 2000\n",
    "test = test[:100]"
   ]
  },
  {
   "cell_type": "markdown",
   "metadata": {},
   "source": [
    "### Stemming"
   ]
  },
  {
   "cell_type": "code",
   "execution_count": 253,
   "metadata": {},
   "outputs": [],
   "source": [
    "for i in range(0, len(test)):\n",
    "    #tokenize\n",
    "    splitted = word_tokenize(test[i])\n",
    "\n",
    "    #stem\n",
    "    for j in range(0, len(splitted)):\n",
    "        splitted[j] = stemmer.stem(splitted[j])\n",
    "    \n",
    "    test[i] = splitted"
   ]
  },
  {
   "cell_type": "markdown",
   "metadata": {},
   "source": [
    "### Stop-word removal"
   ]
  },
  {
   "cell_type": "code",
   "execution_count": 254,
   "metadata": {},
   "outputs": [],
   "source": [
    "for i in range(0, len(test)):\n",
    "    x = [w for w in test[i] if not w in stop_words]\n",
    "    test[i] = x"
   ]
  },
  {
   "cell_type": "markdown",
   "metadata": {},
   "source": [
    "### URL removal"
   ]
  },
  {
   "cell_type": "code",
   "execution_count": 255,
   "metadata": {},
   "outputs": [],
   "source": [
    "for i in range(0, len(test)):\n",
    "    splitted = test[i]\n",
    "    cell = \" \".join(splitted)\n",
    "    test[i] = re.sub(r'http\\S+', '', cell)"
   ]
  },
  {
   "cell_type": "markdown",
   "metadata": {},
   "source": [
    "### Predict the labels of the testing data"
   ]
  },
  {
   "cell_type": "code",
   "execution_count": 256,
   "metadata": {},
   "outputs": [
    {
     "name": "stdout",
     "output_type": "stream",
     "text": [
      "['localNews' 'economy' 'technology' 'internationalNews' 'politic'\n",
      " 'culture' 'technology' 'technology' 'technology' 'internationalNews'\n",
      " 'internationalNews' 'internationalNews' 'diverse' 'sport' 'sport' 'sport'\n",
      " 'sport' 'culture' 'localNews' 'politic' 'sport' 'politic' 'technology'\n",
      " 'diverse' 'sport' 'economy' 'technology' 'economy' 'culture' 'localNews'\n",
      " 'economy' 'culture' 'technology' 'culture' 'sport' 'localNews' 'culture'\n",
      " 'localNews' 'localNews' 'society' 'culture' 'localNews' 'sport' 'culture'\n",
      " 'technology' 'economy' 'culture' 'sport' 'diverse' 'culture' 'localNews'\n",
      " 'economy' 'culture' 'localNews' 'politic' 'culture' 'economy' 'sport'\n",
      " 'society' 'technology' 'localNews' 'localNews' 'economy' 'sport'\n",
      " 'technology' 'culture' 'sport' 'society' 'localNews' 'economy' 'culture'\n",
      " 'sport' 'technology' 'culture' 'society' 'technology' 'localNews'\n",
      " 'diverse' 'culture' 'culture' 'politic' 'culture' 'diverse' 'localNews'\n",
      " 'sport' 'culture' 'localNews' 'technology' 'diverse' 'culture'\n",
      " 'internationalNews' 'technology' 'technology' 'sport' 'localNews'\n",
      " 'technology' 'culture' 'diverse' 'culture' 'localNews']\n"
     ]
    }
   ],
   "source": [
    "transformed_test = tdif_vec.transform(test)\n",
    "predictions = clf.predict(transformed_test)\n",
    "print(predictions)"
   ]
  },
  {
   "cell_type": "markdown",
   "metadata": {},
   "source": [
    "### Calculate each user interests"
   ]
  },
  {
   "cell_type": "code",
   "execution_count": 257,
   "metadata": {},
   "outputs": [
    {
     "name": "stdout",
     "output_type": "stream",
     "text": [
      "User 0: localNews 16.0%, economy 10.0%, technology 16.0%, internationalNews 8.0%, politic 6.0%, culture 20.0%, diverse 6.0%, sport 18.0%, society 2.0%,\n",
      "User 1: economy 8.0%, culture 24.0%, localNews 18.0%, politic 4.0%, sport 12.0%, society 6.0%, technology 16.0%, diverse 8.0%, internationalNews 2.0%,\n"
     ]
    }
   ],
   "source": [
    "articles_per_user = 50\n",
    "interests = [{}]\n",
    "user_index = 0\n",
    "for i in range(0, len(predictions)):\n",
    "    if predictions[i] not in interests[user_index].keys():\n",
    "        interests[user_index][predictions[i]] = 0\n",
    "    interests[user_index][predictions[i]] = interests[user_index][predictions[i]] + 1\n",
    "    \n",
    "    if i != 0 and i % articles_per_user == 0:\n",
    "        user_index += 1\n",
    "        interests.append({})\n",
    "        \n",
    "user_index = 0\n",
    "for user in interests:\n",
    "    user_interests = ('User {}:').format(user_index)\n",
    "    for key, value in user.items():\n",
    "        user_interests = ('{} {} {}%,').format(user_interests, key, (value*100.00/articles_per_user))\n",
    "    user_index += 1\n",
    "    print(user_interests)"
   ]
  },
  {
   "cell_type": "code",
   "execution_count": null,
   "metadata": {},
   "outputs": [],
   "source": []
  }
 ],
 "metadata": {
  "kernelspec": {
   "display_name": "Python 3",
   "language": "python",
   "name": "python3"
  },
  "language_info": {
   "codemirror_mode": {
    "name": "ipython",
    "version": 3
   },
   "file_extension": ".py",
   "mimetype": "text/x-python",
   "name": "python",
   "nbconvert_exporter": "python",
   "pygments_lexer": "ipython3",
   "version": "3.6.5"
  }
 },
 "nbformat": 4,
 "nbformat_minor": 2
}
