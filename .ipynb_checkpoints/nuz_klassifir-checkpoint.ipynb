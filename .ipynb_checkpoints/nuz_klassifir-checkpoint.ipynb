{
 "cells": [
  {
   "cell_type": "markdown",
   "metadata": {},
   "source": [
    "# Nuz Klassifir"
   ]
  },
  {
   "cell_type": "markdown",
   "metadata": {},
   "source": [
    "### Download NLTK packages"
   ]
  },
  {
   "cell_type": "code",
   "execution_count": null,
   "metadata": {},
   "outputs": [],
   "source": [
    "import nltk\n",
    "from sklearn import metrics\n",
    "#nltk.download()"
   ]
  },
  {
   "cell_type": "markdown",
   "metadata": {},
   "source": [
    "### Training Data Collection and Preprocessing"
   ]
  },
  {
   "cell_type": "code",
   "execution_count": null,
   "metadata": {},
   "outputs": [],
   "source": []
  },
  {
   "cell_type": "markdown",
   "metadata": {},
   "source": [
    "### Test Data Collection and Preprocessing"
   ]
  },
  {
   "cell_type": "code",
   "execution_count": 2,
   "metadata": {},
   "outputs": [
    {
     "name": "stdout",
     "output_type": "stream",
     "text": [
      "الداخلية المصرية تُعلن تفاصيل حادث النزهة القاهرة - مباشر: أعلنت وزارة الداخلية المصرية، تفاصيل استشهاد النقيب ماجد أحمد عبد الرازق من قوة وحدة مباحث قسم شرطة النزهة وإصابة القوة المرافقة له، اليوم الأحد. وقالت الوزارة في بيان اليوم، أنه أثناء مرور النقيب ماجد أحمد عبد الرازق محمد، من قوة …\n"
     ]
    }
   ],
   "source": [
    "import json\n",
    "json_file = open('test\\posts.json', encoding='utf8')\n",
    "json_reader = json.load(json_file)\n",
    "\n",
    "articles = []\n",
    "for user in json_reader.values():\n",
    "    for article in user:\n",
    "        #use the title and description as input\n",
    "        articles.append(article[0]+' '+ article[1])\n",
    "        \n",
    "print(articles[0])"
   ]
  },
  {
   "cell_type": "code",
   "execution_count": null,
   "metadata": {},
   "outputs": [],
   "source": []
  }
 ],
 "metadata": {
  "kernelspec": {
   "display_name": "Python 3",
   "language": "python",
   "name": "python3"
  },
  "language_info": {
   "codemirror_mode": {
    "name": "ipython",
    "version": 3
   },
   "file_extension": ".py",
   "mimetype": "text/x-python",
   "name": "python",
   "nbconvert_exporter": "python",
   "pygments_lexer": "ipython3",
   "version": "3.6.5"
  }
 },
 "nbformat": 4,
 "nbformat_minor": 2
}
