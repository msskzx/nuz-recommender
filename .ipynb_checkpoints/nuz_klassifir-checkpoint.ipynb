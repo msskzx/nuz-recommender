{
 "cells": [
  {
   "cell_type": "markdown",
   "metadata": {},
   "source": [
    "# Nuz Klassifir"
   ]
  },
  {
   "cell_type": "markdown",
   "metadata": {},
   "source": [
    "### Download NLTK packages"
   ]
  },
  {
   "cell_type": "code",
   "execution_count": 70,
   "metadata": {},
   "outputs": [],
   "source": [
    "import nltk\n",
    "#nltk.download()"
   ]
  },
  {
   "cell_type": "markdown",
   "metadata": {},
   "source": [
    "### Training Data Collection and Preprocessing"
   ]
  },
  {
   "cell_type": "code",
   "execution_count": 71,
   "metadata": {},
   "outputs": [],
   "source": [
    "import os, re\n",
    "direk_folders = ['culture', 'diverse', 'economy', 'internationalNews', 'localNews', 'politic', 'society', 'sport', 'technology' ]"
   ]
  },
  {
   "cell_type": "code",
   "execution_count": 72,
   "metadata": {},
   "outputs": [],
   "source": [
    "train = []\n",
    "max_samples = 100\n",
    "\n",
    "for folder_name in direk_folders:\n",
    "    direk = 'train/{}/'.format(folder_name)\n",
    "    current_files_names = os.listdir(direk)\n",
    "    \n",
    "    i = 0\n",
    "    for file_name in current_files_names:\n",
    "        \n",
    "        # stop at max number of samples to avoid bias for some classes\n",
    "        i += 1\n",
    "        if i == max_samples:\n",
    "            break\n",
    "            \n",
    "        # read file\n",
    "        file_reader = open(direk + file_name, \"r\", encoding=\"utf-8\")\n",
    "        file = file_reader.read()\n",
    "\n",
    "        # lowercase\n",
    "        file = file.lower()\n",
    "        file = file.replace('\\r', ' ').replace('\\n', ' ')\n",
    "\n",
    "        # extract title text\n",
    "        title = re.search(r'<title>(.*?)</(.?)title>', file)\n",
    "        cleanr = re.compile('<.*?>')\n",
    "        clean_title = re.sub(cleanr, '', title.group(0))\n",
    "    \n",
    "        # extract abstract text\n",
    "        abstr = re.search(r'<abstract>(.*?)</(.?)abstract>', file)\n",
    "        clean_abstr = re.sub(cleanr, '', abstr.group(0))\n",
    "\n",
    "        # extract text of the main content\n",
    "        text = re.search(r'<text>(.*?)</(.?)text>', file)\n",
    "        clean_text = re.sub(cleanr, '', text.group(0))\n",
    "\n",
    "        # remove special characters and digits\n",
    "        clean_title = re.sub(\"(\\\\d|\\\\W)+\",\" \", clean_title)\n",
    "        clean_abstr = re.sub(\"(\\\\d|\\\\W)+\",\" \", clean_abstr)\n",
    "        clean_text = re.sub(\"(\\\\d|\\\\W)+\",\" \", clean_text)\n",
    "        \n",
    "        clean_input = clean_title + clean_abstr + clean_text\n",
    "        train.append([clean_input, folder_name])"
   ]
  },
  {
   "cell_type": "markdown",
   "metadata": {},
   "source": [
    "### Stemming"
   ]
  },
  {
   "cell_type": "code",
   "execution_count": 73,
   "metadata": {},
   "outputs": [],
   "source": [
    "from nltk.stem.porter import *\n",
    "from nltk import word_tokenize\n",
    "stemmer = PorterStemmer()\n",
    "#nltk.download('punkt')"
   ]
  },
  {
   "cell_type": "code",
   "execution_count": 74,
   "metadata": {},
   "outputs": [],
   "source": [
    "for row in train:\n",
    "    #tokenize\n",
    "    splitted = word_tokenize(row[0])\n",
    "\n",
    "    for i in range(0, len(splitted)):\n",
    "        splitted[i] = stemmer.stem(splitted[i])\n",
    "    \n",
    "    row[0] = splitted"
   ]
  },
  {
   "cell_type": "markdown",
   "metadata": {},
   "source": [
    "### Stop-word removal"
   ]
  },
  {
   "cell_type": "code",
   "execution_count": 75,
   "metadata": {},
   "outputs": [],
   "source": [
    "#nltk.download('stopwords')\n",
    "from nltk.corpus import stopwords"
   ]
  },
  {
   "cell_type": "code",
   "execution_count": 76,
   "metadata": {},
   "outputs": [],
   "source": [
    "stop_words = set(stopwords.words('arabic')) \n",
    "for row in train:\n",
    "    x = [w for w in row[0] if not w in stop_words]\n",
    "    row[0] = x"
   ]
  },
  {
   "cell_type": "markdown",
   "metadata": {},
   "source": [
    "### URL removal"
   ]
  },
  {
   "cell_type": "code",
   "execution_count": 77,
   "metadata": {},
   "outputs": [],
   "source": [
    "for row in train:\n",
    "    splitted = row[0]\n",
    "    row[0] = \" \".join(splitted)\n",
    "    row[0] = re.sub(r'http\\S+', '', row[0])"
   ]
  },
  {
   "cell_type": "markdown",
   "metadata": {},
   "source": [
    "### Model"
   ]
  },
  {
   "cell_type": "code",
   "execution_count": 78,
   "metadata": {},
   "outputs": [],
   "source": [
    "from sklearn.feature_extraction.text import TfidfVectorizer\n",
    "\n",
    "train_sent = [line[0] for line in train]\n",
    "train_labels = [line[1] for line in train]\n",
    "\n",
    "tdif_vec = TfidfVectorizer(norm = None)\n",
    "tfidf = tdif_vec.fit_transform(train_sent)"
   ]
  },
  {
   "cell_type": "markdown",
   "metadata": {},
   "source": [
    "### Feed the training documents and their labels to a NB classifier"
   ]
  },
  {
   "cell_type": "code",
   "execution_count": 79,
   "metadata": {},
   "outputs": [
    {
     "data": {
      "text/plain": [
       "MultinomialNB(alpha=1, class_prior=None, fit_prior=True)"
      ]
     },
     "execution_count": 79,
     "metadata": {},
     "output_type": "execute_result"
    }
   ],
   "source": [
    "from sklearn.naive_bayes import MultinomialNB\n",
    "\n",
    "clf = MultinomialNB(alpha=1)\n",
    "clf.fit(tfidf, train_labels)"
   ]
  },
  {
   "cell_type": "markdown",
   "metadata": {},
   "source": [
    "### Test Data Collection and Preprocessing"
   ]
  },
  {
   "cell_type": "code",
   "execution_count": 81,
   "metadata": {},
   "outputs": [],
   "source": [
    "import json\n",
    "json_file = open('test\\posts.json', encoding='utf8')\n",
    "json_reader = json.load(json_file)\n",
    "\n",
    "user_interest = []\n",
    "\n",
    "test = []\n",
    "for user in json_reader.values():\n",
    "    for article in user:\n",
    "        #use the title and description as input\n",
    "        dirty_input = article[0] + article[1]\n",
    "        \n",
    "        # lowercase and remove line breaks\n",
    "        dirty_input = dirty_input.lower()\n",
    "        dirty_input = dirty_input.replace('\\r', ' ').replace('\\n', ' ')\n",
    "        \n",
    "        test.append(clean_input)\n",
    "\n",
    "# number of data provided for each user is 50, nubmer of users is 2000\n",
    "test = test[:100]"
   ]
  },
  {
   "cell_type": "markdown",
   "metadata": {},
   "source": [
    "### Stemming"
   ]
  },
  {
   "cell_type": "code",
   "execution_count": 82,
   "metadata": {},
   "outputs": [],
   "source": [
    "for i in range(0, len(test)):\n",
    "    #tokenize\n",
    "    splitted = word_tokenize(test[i])\n",
    "\n",
    "    #stem\n",
    "    for j in range(0, len(splitted)):\n",
    "        splitted[j] = stemmer.stem(splitted[j])\n",
    "    \n",
    "    test[i] = splitted"
   ]
  },
  {
   "cell_type": "markdown",
   "metadata": {},
   "source": [
    "### Stop-word removal"
   ]
  },
  {
   "cell_type": "code",
   "execution_count": 83,
   "metadata": {},
   "outputs": [],
   "source": [
    "for i in range(0, len(test)):\n",
    "    x = [w for w in test[i] if not w in stop_words]\n",
    "    test[i] = x"
   ]
  },
  {
   "cell_type": "markdown",
   "metadata": {},
   "source": [
    "### URL removal"
   ]
  },
  {
   "cell_type": "code",
   "execution_count": 84,
   "metadata": {},
   "outputs": [],
   "source": [
    "for i in range(0, len(test)):\n",
    "    splitted = test[i]\n",
    "    cell = \" \".join(splitted)\n",
    "    test[i] = re.sub(r'http\\S+', '', cell)"
   ]
  },
  {
   "cell_type": "markdown",
   "metadata": {},
   "source": [
    "### Predict the labels of the testing data"
   ]
  },
  {
   "cell_type": "code",
   "execution_count": 85,
   "metadata": {},
   "outputs": [
    {
     "name": "stdout",
     "output_type": "stream",
     "text": [
      "['technology' 'technology' 'technology' 'technology' 'technology'\n",
      " 'technology' 'technology' 'technology' 'technology' 'technology'\n",
      " 'technology' 'technology' 'technology' 'technology' 'technology'\n",
      " 'technology' 'technology' 'technology' 'technology' 'technology'\n",
      " 'technology' 'technology' 'technology' 'technology' 'technology'\n",
      " 'technology' 'technology' 'technology' 'technology' 'technology'\n",
      " 'technology' 'technology' 'technology' 'technology' 'technology'\n",
      " 'technology' 'technology' 'technology' 'technology' 'technology'\n",
      " 'technology' 'technology' 'technology' 'technology' 'technology'\n",
      " 'technology' 'technology' 'technology' 'technology' 'technology'\n",
      " 'technology' 'technology' 'technology' 'technology' 'technology'\n",
      " 'technology' 'technology' 'technology' 'technology' 'technology'\n",
      " 'technology' 'technology' 'technology' 'technology' 'technology'\n",
      " 'technology' 'technology' 'technology' 'technology' 'technology'\n",
      " 'technology' 'technology' 'technology' 'technology' 'technology'\n",
      " 'technology' 'technology' 'technology' 'technology' 'technology'\n",
      " 'technology' 'technology' 'technology' 'technology' 'technology'\n",
      " 'technology' 'technology' 'technology' 'technology' 'technology'\n",
      " 'technology' 'technology' 'technology' 'technology' 'technology'\n",
      " 'technology' 'technology' 'technology' 'technology' 'technology']\n",
      "المنستير المهرجان الدولي الأول للعلوم و الهندسة و التكنولوجيا إطار الاستعداد لتنظيم المهرجان الدولي للعلوم و الهندسة و التكنولوجيا بتونس بمدينة المنستير جانفي انعقدت أمس بمقر الولاية جلسة عمل بإشراف المعتمد الأول و بحضور ممثلي مختلف الإدارات و المصالح الصلة و بحضور رئيس الجمعية التونسية لمستقبل العلوم و التكنولوجيا atast المنظمة للمهرجان بإشراف ولاية المنستير إطار الاستعداد لتنظيم المهرجان الدولي للعلوم و الهندسة و التكنولوجيا بتونس بمدينة المنستير جانفي انعقدت أمس بمقر الولاية جلسة عمل بإشراف المعتمد الأول و بحضور ممثلي مختلف الإدارات و المصالح الصلة و بحضور رئيس الجمعية التونسية لمستقبل العلوم و التكنولوجيا atast المنظمة للمهرجان بإشراف ولاية المنستير و أكد حاتم سليمان رئيس الجمعية المهرجان ي نظم لأول مر ة تونس و العالم العربي و إفريقيا ويمكن لجميع التلاميذ و الطلبة تتراوح أعمارهم و سنة المشاركة فعالياته و أضاف رئيس الجمعية الدورة الأولى للمهرجان تتضمن مسابقة دولية العلوم و الهندسة حول الابتكار و البحث العلمي و التكنولوجي مختلف المجالات إضافة الأولمبياد الدولية للابتكار و دورات تدريبية مجال البرمجة المدمجة و تطبيقات الهاتف الجوال و برمجة الألعاب و التصميم الثلاثي الأبعاد و أكد رئيس الجمعية المهرجان يهدف تبادل الخبرات و المعارف و تحسين و تطوير مهارات الباحثين و الشباب المبدع\n"
     ]
    }
   ],
   "source": [
    "transformed_test = tdif_vec.transform(test)\n",
    "predictions = clf.predict(transformed_test)\n",
    "print(predictions)\n",
    "print(test[7])"
   ]
  },
  {
   "cell_type": "markdown",
   "metadata": {},
   "source": [
    "### Calculate each user interests"
   ]
  },
  {
   "cell_type": "code",
   "execution_count": 86,
   "metadata": {},
   "outputs": [
    {
     "name": "stdout",
     "output_type": "stream",
     "text": [
      "User 0: technology 102.0%,\n",
      "User 1: technology 98.0%,\n"
     ]
    }
   ],
   "source": [
    "articles_per_user = 50\n",
    "interests = [{}]\n",
    "user_index = 0\n",
    "for i in range(0, len(predictions)):\n",
    "    if predictions[i] not in interests[user_index].keys():\n",
    "        interests[user_index][predictions[i]] = 0\n",
    "    interests[user_index][predictions[i]] = interests[user_index][predictions[i]] + 1\n",
    "    \n",
    "    if i != 0 and i % articles_per_user == 0:\n",
    "        user_index += 1\n",
    "        interests.append({})\n",
    "        \n",
    "user_index = 0\n",
    "for user in interests:\n",
    "    user_interests = ('User {}:').format(user_index)\n",
    "    for key, value in user.items():\n",
    "        user_interests = ('{} {} {}%,').format(user_interests, key, (value*100.00/articles_per_user))\n",
    "    user_index += 1\n",
    "    print(user_interests)"
   ]
  }
 ],
 "metadata": {
  "kernelspec": {
   "display_name": "Python 3",
   "language": "python",
   "name": "python3"
  },
  "language_info": {
   "codemirror_mode": {
    "name": "ipython",
    "version": 3
   },
   "file_extension": ".py",
   "mimetype": "text/x-python",
   "name": "python",
   "nbconvert_exporter": "python",
   "pygments_lexer": "ipython3",
   "version": "3.6.5"
  }
 },
 "nbformat": 4,
 "nbformat_minor": 2
}
